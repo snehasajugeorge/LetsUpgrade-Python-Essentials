{
  "nbformat": 4,
  "nbformat_minor": 0,
  "metadata": {
    "colab": {
      "name": "Day7LetsUpgrade.ipynb",
      "provenance": [],
      "authorship_tag": "ABX9TyNGT0GI8uxbK3c1NniRNE83",
      "include_colab_link": true
    },
    "kernelspec": {
      "name": "python3",
      "display_name": "Python 3"
    }
  },
  "cells": [
    {
      "cell_type": "markdown",
      "metadata": {
        "id": "view-in-github",
        "colab_type": "text"
      },
      "source": [
        "<a href=\"https://colab.research.google.com/github/snehasajugeorge/LetsUpgrade-Python-Essentials/blob/master/Day7LetsUpgrade.ipynb\" target=\"_parent\"><img src=\"https://colab.research.google.com/assets/colab-badge.svg\" alt=\"Open In Colab\"/></a>"
      ]
    },
    {
      "cell_type": "code",
      "metadata": {
        "id": "CrT9nYecnGeH",
        "colab_type": "code",
        "colab": {
          "base_uri": "https://localhost:8080/",
          "height": 54
        },
        "outputId": "69d03865-d8ae-4610-8478-6c9f93b08771"
      },
      "source": [
        " dict = {21:\"FTP\", 22:\"SSH\",23:\"telnet\",80:\"http\"}\n",
        " \n",
        " \n",
        "dict = {value:key for key, value in dict.items()}\n",
        "print(dict)"
      ],
      "execution_count": null,
      "outputs": [
        {
          "output_type": "stream",
          "text": [
            "{'FTP': 21, 'SSH': 22, 'telnet': 23, 'http': 80}\n"
          ],
          "name": "stdout"
        }
      ]
    },
    {
      "cell_type": "code",
      "metadata": {
        "id": "SaahdxZI3tj2",
        "colab_type": "code",
        "colab": {
          "base_uri": "https://localhost:8080/",
          "height": 34
        },
        "outputId": "21bd6503-5745-42de-e3b7-f245b13ee36b"
      },
      "source": [
        "list = [(1,2),(3,4),(5,6),(4,5)]\n",
        "[sum(tup) for tup in list]"
      ],
      "execution_count": null,
      "outputs": [
        {
          "output_type": "execute_result",
          "data": {
            "text/plain": [
              "[3, 7, 11, 9]"
            ]
          },
          "metadata": {
            "tags": []
          },
          "execution_count": 10
        }
      ]
    },
    {
      "cell_type": "code",
      "metadata": {
        "id": "sJ7kfqkmrV4G",
        "colab_type": "code",
        "colab": {}
      },
      "source": [
        "l=[(1,2,3),[1,2],['a','hit','less']]\n",
        "def striplist(l):\n",
        "    return([x.strip() for x in l])"
      ],
      "execution_count": 30,
      "outputs": []
    }
  ]
}