{
  "nbformat": 4,
  "nbformat_minor": 0,
  "metadata": {
    "colab": {
      "name": "Day6LetsUpgrade.ipynb",
      "provenance": [],
      "authorship_tag": "ABX9TyMTZV4DgSdgX+7zaLJ8v1CM",
      "include_colab_link": true
    },
    "kernelspec": {
      "name": "python3",
      "display_name": "Python 3"
    }
  },
  "cells": [
    {
      "cell_type": "markdown",
      "metadata": {
        "id": "view-in-github",
        "colab_type": "text"
      },
      "source": [
        "<a href=\"https://colab.research.google.com/github/snehasajugeorge/LetsUpgrade-Python-Essentials/blob/master/Day6LetsUpgrade.ipynb\" target=\"_parent\"><img src=\"https://colab.research.google.com/assets/colab-badge.svg\" alt=\"Open In Colab\"/></a>"
      ]
    },
    {
      "cell_type": "code",
      "metadata": {
        "id": "fzdyM2F1j2w6",
        "colab_type": "code",
        "colab": {
          "base_uri": "https://localhost:8080/",
          "height": 223
        },
        "outputId": "da4115da-cdf6-415a-bd09-a291ca95668f"
      },
      "source": [
        "list1 = [1, 2, 3,4,5,7,8] \n",
        " \n",
        "list2 = ['a', 'b', 'c','d','e']\n",
        "dict.fromkeys(list1 + list2,'')"
      ],
      "execution_count": 2,
      "outputs": [
        {
          "output_type": "execute_result",
          "data": {
            "text/plain": [
              "{1: '',\n",
              " 2: '',\n",
              " 3: '',\n",
              " 4: '',\n",
              " 5: '',\n",
              " 7: '',\n",
              " 8: '',\n",
              " 'a': '',\n",
              " 'b': '',\n",
              " 'c': '',\n",
              " 'd': '',\n",
              " 'e': ''}"
            ]
          },
          "metadata": {
            "tags": []
          },
          "execution_count": 2
        }
      ]
    }
  ]
}