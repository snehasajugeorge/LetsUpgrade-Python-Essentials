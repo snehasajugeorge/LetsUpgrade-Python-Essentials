{
  "nbformat": 4,
  "nbformat_minor": 0,
  "metadata": {
    "colab": {
      "name": "Day5LetsUpgrade.ipynb",
      "provenance": [],
      "authorship_tag": "ABX9TyNdRFyFaSXuQ1XIeif/oVTn",
      "include_colab_link": true
    },
    "kernelspec": {
      "name": "python3",
      "display_name": "Python 3"
    }
  },
  "cells": [
    {
      "cell_type": "markdown",
      "metadata": {
        "id": "view-in-github",
        "colab_type": "text"
      },
      "source": [
        "<a href=\"https://colab.research.google.com/github/snehasajugeorge/LetsUpgrade-Python-Essentials/blob/master/Day5LetsUpgrade.ipynb\" target=\"_parent\"><img src=\"https://colab.research.google.com/assets/colab-badge.svg\" alt=\"Open In Colab\"/></a>"
      ]
    },
    {
      "cell_type": "code",
      "metadata": {
        "id": "DIZrGPdi27jO",
        "colab_type": "code",
        "colab": {
          "base_uri": "https://localhost:8080/",
          "height": 71
        },
        "outputId": "661ddcdd-dc96-478b-92d0-8b3015967421"
      },
      "source": [
        "arr= [0,1,2,10,4,1,0,56,2,0,1,3,0,56,0,4]\n",
        "n = len(arr)\n",
        "arr.sort()\n",
        "pushZerosToEnd(arr, n) \n",
        " \n",
        "print(\"Array after pushing all zeros to end of array:\") \n",
        " \n",
        "print(arr)"
      ],
      "execution_count": 27,
      "outputs": [
        {
          "output_type": "stream",
          "text": [
            "Array after pushing all zeros to end of array:\n",
            "[1, 1, 1, 2, 2, 3, 4, 4, 10, 56, 56, 0, 0, 0, 0, 0]\n"
          ],
          "name": "stdout"
        }
      ]
    },
    {
      "cell_type": "code",
      "metadata": {
        "id": "5Xlz6TtTFZDL",
        "colab_type": "code",
        "colab": {
          "base_uri": "https://localhost:8080/",
          "height": 54
        },
        "outputId": "9d12b6a8-c18a-43cf-89c9-38a3302dff18"
      },
      "source": [
        "list1 = [10,20,40,60,70,80]\n",
        "list2 = [5,15,25,35,45,60]\n",
        "for x in (list2):\n",
        "    list1.append(x) \n",
        "print(list1)"
      ],
      "execution_count": null,
      "outputs": [
        {
          "output_type": "stream",
          "text": [
            "[10, 20, 40, 60, 70, 80, 5, 15, 25, 35, 45, 60]\n"
          ],
          "name": "stdout"
        }
      ]
    }
  ]
}