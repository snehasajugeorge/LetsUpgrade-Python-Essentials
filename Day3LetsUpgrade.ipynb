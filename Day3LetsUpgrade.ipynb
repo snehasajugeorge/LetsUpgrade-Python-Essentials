{
  "nbformat": 4,
  "nbformat_minor": 0,
  "metadata": {
    "colab": {
      "name": "Day3LetsUpgrade.ipynb",
      "provenance": [],
      "authorship_tag": "ABX9TyPXRdrgVIS09KUyl6d67NON",
      "include_colab_link": true
    },
    "kernelspec": {
      "name": "python3",
      "display_name": "Python 3"
    }
  },
  "cells": [
    {
      "cell_type": "markdown",
      "metadata": {
        "id": "view-in-github",
        "colab_type": "text"
      },
      "source": [
        "<a href=\"https://colab.research.google.com/github/snehasajugeorge/LetsUpgrade-Python-Essentials/blob/master/Day3LetsUpgrade.ipynb\" target=\"_parent\"><img src=\"https://colab.research.google.com/assets/colab-badge.svg\" alt=\"Open In Colab\"/></a>"
      ]
    },
    {
      "cell_type": "code",
      "metadata": {
        "id": "T803epkOrCs1",
        "colab_type": "code",
        "colab": {}
      },
      "source": [
        ""
      ],
      "execution_count": null,
      "outputs": []
    },
    {
      "cell_type": "markdown",
      "metadata": {
        "id": "RXz7X1MBrLs_",
        "colab_type": "text"
      },
      "source": [
        "Print sum of   n numbers using while loop,let's n=100"
      ]
    },
    {
      "cell_type": "code",
      "metadata": {
        "id": "oGmQD43orVHO",
        "colab_type": "code",
        "colab": {
          "base_uri": "https://localhost:8080/",
          "height": 34
        },
        "outputId": "2b6a2369-75c1-415c-c404-2869551b9f34"
      },
      "source": [
        " \n",
        " \n",
        "total=0\n",
        "i=1\n",
        " while i <= 100:\n",
        "     total = total + i\n",
        "     i += 1\n",
        "print(total)"
      ],
      "execution_count": null,
      "outputs": [
        {
          "output_type": "stream",
          "text": [
            "5050\n"
          ],
          "name": "stdout"
        }
      ]
    },
    {
      "cell_type": "markdown",
      "metadata": {
        "id": "hlWIZh9vvxaL",
        "colab_type": "text"
      },
      "source": [
        " Take any integer and find whether the number is prime or not."
      ]
    },
    {
      "cell_type": "code",
      "metadata": {
        "id": "0TEwo1wnv6xl",
        "colab_type": "code",
        "colab": {
          "base_uri": "https://localhost:8080/",
          "height": 34
        },
        "outputId": "055de998-ba35-45ea-c872-a97141b25550"
      },
      "source": [
        " \n",
        "num = 37\n",
        " \n",
        " \n",
        " \n",
        "if num > 1: \n",
        " \n",
        "      \n",
        " \n",
        "   \n",
        " \n",
        "   for i in range(2, num): \n",
        " \n",
        " \n",
        "       if (num % i) == 0: \n",
        " \n",
        "           print(num, \"is not a prime number\") \n",
        " \n",
        "           break\n",
        " \n",
        "   else: \n",
        " \n",
        "       print(num, \"is a prime number\") \n",
        " \n",
        "  \n",
        " \n",
        "else: \n",
        " \n",
        "   print(num, \"is not a prime number\")"
      ],
      "execution_count": 10,
      "outputs": [
        {
          "output_type": "stream",
          "text": [
            "37 is a prime number\n"
          ],
          "name": "stdout"
        }
      ]
    },
    {
      "cell_type": "markdown",
      "metadata": {
        "id": "1GqIXROQr0Oa",
        "colab_type": "text"
      },
      "source": [
        ""
      ]
    }
  ]
}